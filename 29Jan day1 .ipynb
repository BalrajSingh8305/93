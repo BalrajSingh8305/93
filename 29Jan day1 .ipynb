{
 "cells": [
  {
   "cell_type": "code",
   "execution_count": 1,
   "id": "d60ceceb-6a0b-4cc8-9c7b-c72a19f52e24",
   "metadata": {},
   "outputs": [
    {
     "data": {
      "text/plain": [
       "'balraj'"
      ]
     },
     "execution_count": 1,
     "metadata": {},
     "output_type": "execute_result"
    }
   ],
   "source": [
    "name='balraj'\n",
    "name"
   ]
  },
  {
   "cell_type": "code",
   "execution_count": 2,
   "id": "34eaf33a-78bb-4961-9815-f337d7fb1d05",
   "metadata": {},
   "outputs": [
    {
     "name": "stdout",
     "output_type": "stream",
     "text": [
      "name\n"
     ]
    }
   ],
   "source": [
    "print(\"name\")"
   ]
  },
  {
   "cell_type": "code",
   "execution_count": 4,
   "id": "d9f5f4dd-6a5a-4dfd-88dc-582b9445243e",
   "metadata": {},
   "outputs": [
    {
     "data": {
      "text/plain": [
       "float"
      ]
     },
     "execution_count": 4,
     "metadata": {},
     "output_type": "execute_result"
    }
   ],
   "source": [
    "type(2.3)\n"
   ]
  },
  {
   "cell_type": "code",
   "execution_count": 5,
   "id": "819c8b9f-5192-4675-a863-81e5e7094a4b",
   "metadata": {},
   "outputs": [
    {
     "data": {
      "text/plain": [
       "False"
      ]
     },
     "execution_count": 5,
     "metadata": {},
     "output_type": "execute_result"
    }
   ],
   "source": [
    "bool(0)"
   ]
  },
  {
   "cell_type": "code",
   "execution_count": 6,
   "id": "78637dde-78ad-451b-9626-60dd5641c1ba",
   "metadata": {},
   "outputs": [
    {
     "data": {
      "text/plain": [
       "True"
      ]
     },
     "execution_count": 6,
     "metadata": {},
     "output_type": "execute_result"
    }
   ],
   "source": [
    "bool(1)"
   ]
  },
  {
   "cell_type": "code",
   "execution_count": 14,
   "id": "896741c8-b503-4bf0-84b5-6c43007f327e",
   "metadata": {},
   "outputs": [
    {
     "name": "stdout",
     "output_type": "stream",
     "text": [
      "hello world\n"
     ]
    }
   ],
   "source": [
    "a = 1\n",
    "if bool(1) == False:\n",
    "    print(\"hello\")\n",
    "else:\n",
    "    print(\"hello world\")"
   ]
  },
  {
   "cell_type": "markdown",
   "id": "6a24d84a-38cf-45b2-8979-b2877a54124e",
   "metadata": {},
   "source": [
    "## dynamic typing"
   ]
  },
  {
   "cell_type": "code",
   "execution_count": 19,
   "id": "738b7e72-cdde-4546-ac21-b122d055de7b",
   "metadata": {},
   "outputs": [
    {
     "name": "stdout",
     "output_type": "stream",
     "text": [
      "<class 'str'>\n"
     ]
    }
   ],
   "source": [
    "a=12\n",
    "str1=\"jay\"\n",
    "a=\"var\"\n",
    "print(type(a))"
   ]
  },
  {
   "cell_type": "code",
   "execution_count": 18,
   "id": "7a1afa8c-ede2-4202-b4cb-364d2836567e",
   "metadata": {},
   "outputs": [
    {
     "name": "stdout",
     "output_type": "stream",
     "text": [
      "<class 'int'>\n"
     ]
    }
   ],
   "source": [
    "print(type(a))"
   ]
  },
  {
   "cell_type": "code",
   "execution_count": null,
   "id": "52040f8a-cc58-4a9c-acc6-5947197c3d82",
   "metadata": {},
   "outputs": [],
   "source": [
    "#concatination  "
   ]
  },
  {
   "cell_type": "code",
   "execution_count": 1,
   "id": "4ad23565-8e53-4cef-b956-966ea8946cd2",
   "metadata": {},
   "outputs": [
    {
     "data": {
      "text/plain": [
       "'11'"
      ]
     },
     "execution_count": 1,
     "metadata": {},
     "output_type": "execute_result"
    }
   ],
   "source": [
    "\"1\"+\"1\""
   ]
  },
  {
   "cell_type": "code",
   "execution_count": 5,
   "id": "f37b8b55-2e16-4af9-b1b7-fe8b6e3db3f2",
   "metadata": {},
   "outputs": [
    {
     "data": {
      "text/plain": [
       "2"
      ]
     },
     "execution_count": 5,
     "metadata": {},
     "output_type": "execute_result"
    }
   ],
   "source": [
    "int(\"1\")+int(\"1\")"
   ]
  },
  {
   "cell_type": "code",
   "execution_count": 6,
   "id": "34f776df-db21-44bf-96e2-541e014a007d",
   "metadata": {},
   "outputs": [
    {
     "data": {
      "text/plain": [
       "'1111111111111111111111111111111111111111111111111111111111111111111111111111111111111111111111111111'"
      ]
     },
     "execution_count": 6,
     "metadata": {},
     "output_type": "execute_result"
    }
   ],
   "source": [
    "\"1\" *100"
   ]
  },
  {
   "cell_type": "code",
   "execution_count": 9,
   "id": "74390601-d899-433c-a5b3-2e1856b38ed1",
   "metadata": {},
   "outputs": [
    {
     "ename": "TypeError",
     "evalue": "can't multiply sequence by non-int of type 'str'",
     "output_type": "error",
     "traceback": [
      "\u001b[0;31m---------------------------------------------------------------------------\u001b[0m",
      "\u001b[0;31mTypeError\u001b[0m                                 Traceback (most recent call last)",
      "Cell \u001b[0;32mIn[9], line 1\u001b[0m\n\u001b[0;32m----> 1\u001b[0m \u001b[38;5;124;43m\"\u001b[39;49m\u001b[38;5;124;43m1\u001b[39;49m\u001b[38;5;124;43m\"\u001b[39;49m\u001b[43m \u001b[49m\u001b[38;5;241;43m*\u001b[39;49m\u001b[43m \u001b[49m\u001b[38;5;124;43m\"\u001b[39;49m\u001b[38;5;124;43m1\u001b[39;49m\u001b[38;5;124;43m\"\u001b[39;49m\n",
      "\u001b[0;31mTypeError\u001b[0m: can't multiply sequence by non-int of type 'str'"
     ]
    }
   ],
   "source": [
    "\"1\" * \"1\"\n"
   ]
  },
  {
   "cell_type": "code",
   "execution_count": 1,
   "id": "5c93b6d5-4493-48f7-8be9-95315e478add",
   "metadata": {},
   "outputs": [
    {
     "ename": "ZeroDivisionError",
     "evalue": "division by zero",
     "output_type": "error",
     "traceback": [
      "\u001b[0;31m---------------------------------------------------------------------------\u001b[0m",
      "\u001b[0;31mZeroDivisionError\u001b[0m                         Traceback (most recent call last)",
      "Cell \u001b[0;32mIn[1], line 1\u001b[0m\n\u001b[0;32m----> 1\u001b[0m \u001b[38;5;241;43m1\u001b[39;49m\u001b[38;5;241;43m/\u001b[39;49m\u001b[43m \u001b[49m\u001b[38;5;28;43;01mFalse\u001b[39;49;00m\n",
      "\u001b[0;31mZeroDivisionError\u001b[0m: division by zero"
     ]
    }
   ],
   "source": [
    " 1/ False"
   ]
  },
  {
   "cell_type": "code",
   "execution_count": 2,
   "id": "0680d33a-2510-45b8-85b3-ea6e9141d8a8",
   "metadata": {},
   "outputs": [
    {
     "data": {
      "text/plain": [
       "(-1+3j)"
      ]
     },
     "execution_count": 2,
     "metadata": {},
     "output_type": "execute_result"
    }
   ],
   "source": [
    "num1= 23\n",
    "\n",
    "num2= 44\n",
    "\n",
    "num2= 2+3j\n",
    "\n",
    "num1= num2.imag\n",
    "\n",
    "num2-num1"
   ]
  },
  {
   "cell_type": "code",
   "execution_count": 7,
   "id": "1617f725-87cb-4ec1-a497-a9e4bec2c654",
   "metadata": {},
   "outputs": [
    {
     "ename": "SyntaxError",
     "evalue": "invalid character '‘' (U+2018) (1847261982.py, line 1)",
     "output_type": "error",
     "traceback": [
      "\u001b[0;36m  Cell \u001b[0;32mIn[7], line 1\u001b[0;36m\u001b[0m\n\u001b[0;31m    int(‘pwskills’) + 1\u001b[0m\n\u001b[0m        ^\u001b[0m\n\u001b[0;31mSyntaxError\u001b[0m\u001b[0;31m:\u001b[0m invalid character '‘' (U+2018)\n"
     ]
    }
   ],
   "source": [
    "int(‘pwskills’) + 1 "
   ]
  },
  {
   "cell_type": "code",
   "execution_count": 8,
   "id": "afacb8af-c9e2-4de2-8e6d-7defdede028e",
   "metadata": {},
   "outputs": [
    {
     "ename": "SyntaxError",
     "evalue": "cannot assign to expression here. Maybe you meant '==' instead of '='? (2110717384.py, line 1)",
     "output_type": "error",
     "traceback": [
      "\u001b[0;36m  Cell \u001b[0;32mIn[8], line 1\u001b[0;36m\u001b[0m\n\u001b[0;31m    20%_num = 10\u001b[0m\n\u001b[0m    ^\u001b[0m\n\u001b[0;31mSyntaxError\u001b[0m\u001b[0;31m:\u001b[0m cannot assign to expression here. Maybe you meant '==' instead of '='?\n"
     ]
    }
   ],
   "source": [
    "20%_num = 10\n",
    "20%_num"
   ]
  },
  {
   "cell_type": "code",
   "execution_count": 9,
   "id": "9d9edc5c-f5b1-4708-adfb-bf38f31547ed",
   "metadata": {},
   "outputs": [
    {
     "ename": "SyntaxError",
     "evalue": "invalid character '‘' (U+2018) (22824629.py, line 1)",
     "output_type": "error",
     "traceback": [
      "\u001b[0;36m  Cell \u001b[0;32mIn[9], line 1\u001b[0;36m\u001b[0m\n\u001b[0;31m    Name = ‘pwskills’\u001b[0m\n\u001b[0m           ^\u001b[0m\n\u001b[0;31mSyntaxError\u001b[0m\u001b[0;31m:\u001b[0m invalid character '‘' (U+2018)\n"
     ]
    }
   ],
   "source": [
    "Name = ‘pwskills’\n",
    "\n",
    "Name[0] = ‘P’"
   ]
  },
  {
   "cell_type": "code",
   "execution_count": 10,
   "id": "2d08fabb-69d3-4281-a23e-e2e08773a344",
   "metadata": {},
   "outputs": [
    {
     "ename": "SyntaxError",
     "evalue": "invalid character '‘' (U+2018) (3643665153.py, line 1)",
     "output_type": "error",
     "traceback": [
      "\u001b[0;36m  Cell \u001b[0;32mIn[10], line 1\u001b[0;36m\u001b[0m\n\u001b[0;31m    ‘pwskills’.upper().lower().isalnum()\u001b[0m\n\u001b[0m    ^\u001b[0m\n\u001b[0;31mSyntaxError\u001b[0m\u001b[0;31m:\u001b[0m invalid character '‘' (U+2018)\n"
     ]
    }
   ],
   "source": [
    "‘pwskills’.upper().lower().isalnum()"
   ]
  },
  {
   "cell_type": "code",
   "execution_count": null,
   "id": "98d58c0a-add7-425d-ba7e-271aa1a0c3a1",
   "metadata": {},
   "outputs": [],
   "source": []
  }
 ],
 "metadata": {
  "kernelspec": {
   "display_name": "Python 3 (ipykernel)",
   "language": "python",
   "name": "python3"
  },
  "language_info": {
   "codemirror_mode": {
    "name": "ipython",
    "version": 3
   },
   "file_extension": ".py",
   "mimetype": "text/x-python",
   "name": "python",
   "nbconvert_exporter": "python",
   "pygments_lexer": "ipython3",
   "version": "3.10.8"
  }
 },
 "nbformat": 4,
 "nbformat_minor": 5
}
