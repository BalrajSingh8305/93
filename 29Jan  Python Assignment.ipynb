{
 "cells": [
  {
   "cell_type": "markdown",
   "id": "fe762e0e-67ce-4467-8374-7c48aab18486",
   "metadata": {},
   "source": [
    "###  Question 1.) Who developed Python Programming Language? \n",
    "####    Answer 1.) Python programming language is developed by Guido van Rossum ."
   ]
  },
  {
   "cell_type": "markdown",
   "id": "81e3d55c-c702-4cd9-ba2d-4cc6058f0f6c",
   "metadata": {},
   "source": [
    "### Question 2.) Which type of Programming does Python support?\n",
    "#### Answer 2.) Python support many type of programming like object-oriented, structured, and functional programming."
   ]
  },
  {
   "cell_type": "markdown",
   "id": "c0c8d07e-f368-4a59-9f4b-5550572c9a16",
   "metadata": {},
   "source": [
    "### Question 3.)  Is Python case sensitive when dealing with identifiers?\n",
    "#### Answer 3.) Yes Python a case-sensitive language because it differentiates between uppercase and lowercase characters during running of the code."
   ]
  },
  {
   "cell_type": "markdown",
   "id": "52cc29e6-2a9a-4af7-992c-eca3774db705",
   "metadata": {},
   "source": [
    "### Question 4.) What is the correct extension of the Python file?\n",
    "#### Answer 4.) The correct extension of Python file is .py"
   ]
  },
  {
   "cell_type": "markdown",
   "id": "22857ab4-3165-407a-b37d-690b434143ea",
   "metadata": {},
   "source": [
    "### Question 5.)  Is Python code complied or interpreted?\n",
    "#### Answer 5.) Python is an interpreted language."
   ]
  },
  {
   "cell_type": "markdown",
   "id": "ded7ce26-953c-4d18-86af-c4edeab9a010",
   "metadata": {},
   "source": [
    "### Question 6.) Name a few blocks of code used to define in Python language?\n",
    "#### Answer.6) Indentation  Indentation and Comment in Python is used to define a block of code in python."
   ]
  },
  {
   "cell_type": "markdown",
   "id": "90f41f8c-402c-482a-8cce-2602cb32365e",
   "metadata": {},
   "source": [
    "### Question 7.) State a character used to give single-line comments in Python?\n",
    "#### Answer 7.) Hash character(#) is used to comment the single line in the Python program."
   ]
  },
  {
   "cell_type": "markdown",
   "id": "595900fe-fda7-419f-b5fc-8a76c59b6846",
   "metadata": {},
   "source": [
    "### Question 8.) Mention functions which can help us to find the version of python that we are currently working on?\n",
    "#### Answer 8.) sys.version Below is the example \n"
   ]
  },
  {
   "cell_type": "code",
   "execution_count": 12,
   "id": "99ae22fd-00f3-4ba0-bb29-1318ebc94ebc",
   "metadata": {},
   "outputs": [
    {
     "data": {
      "text/plain": [
       "'3.10.8 | packaged by conda-forge | (main, Nov 22 2022, 08:26:04) [GCC 10.4.0]'"
      ]
     },
     "execution_count": 12,
     "metadata": {},
     "output_type": "execute_result"
    }
   ],
   "source": [
    "import sys\n",
    "sys.version"
   ]
  },
  {
   "cell_type": "markdown",
   "id": "7eae87ca-8fa0-4c91-8d16-e462f1d1b8d5",
   "metadata": {},
   "source": [
    "### Question 9.) Python supports the creation of anonymous functions at runtime, using a construct called___________\n",
    "#### Answer 9.) lambda"
   ]
  },
  {
   "cell_type": "markdown",
   "id": "cbc969db-16b8-4f71-9049-4c5b49bc7dc3",
   "metadata": {},
   "source": [
    "### Question 10.) What does pip stand for python?\n",
    "#### Answer 10.) preferred installer program"
   ]
  },
  {
   "cell_type": "markdown",
   "id": "608a2d99-aeb7-428b-bb5c-c2fa16c186a1",
   "metadata": {},
   "source": [
    "### Question 11.) Mention a few built-in functions in python?\n",
    "#### Answer 11.) .sorted( ) function .max( ) function .round( ) function .id( ) function .len( ) function .sum( ) function. help( ) function"
   ]
  },
  {
   "cell_type": "markdown",
   "id": "927351c9-6753-44a2-ab16-a351ac23edaa",
   "metadata": {},
   "source": [
    "### Question 12.) What is the maximum possible length of an identifier in Python?\n",
    "#### Answer 12.) 79 characters"
   ]
  },
  {
   "cell_type": "markdown",
   "id": "770b7dd9-b8e8-4ed3-81aa-17f47165933d",
   "metadata": {},
   "source": [
    "### Question 13.) What are the benefits of using Python?\n",
    "#### Answer 13.) a. Extensive support libraries(NumPy for numerical calculations, Pandas for data analytics, etc.) \n",
    "#### b. Open source and large active community base \n",
    "#### c. Versatile, Easy to read, learn and write\n",
    "#### d. User-friendly data structures \n",
    "#### e.High-level language \n",
    "#### f. Dynamically typed language\n",
    "#### g .Object-Oriented and Procedural  Programming language\n",
    "#### h .Portable and Interactive"
   ]
  },
  {
   "cell_type": "markdown",
   "id": "970aced3-bf05-46b8-828d-d4a7d54e3cef",
   "metadata": {},
   "source": [
    "### Question 14.) How is memory managed in Python?\n",
    "#### Answer 14.) Memory management in Python which involves a private heap containing all Python objects and data structures.The management of this private heap is ensured internally by the Python memory manager."
   ]
  },
  {
   "cell_type": "markdown",
   "id": "cde57383-9530-4855-9023-6f6e0ee77af9",
   "metadata": {},
   "source": [
    "### Question 15.) How to install Python on Windows and set path variables?\n",
    "#### Answer 15.)  locate where the python is being installed after downloading--->Press WINDOWS key and search for “Python”-->and copy file location-->add the above-copied path as a variable so that windows can recognize. Search for “Environmental Variables”--> open that-->after opening click one advanced -->click environment Variable-->There will be two categories namely “User” and “System”, we have to add it in Users, click on New button in the User section. Now, add a Variable Name and Path which we copied previously and click OK"
   ]
  },
  {
   "cell_type": "markdown",
   "id": "13ac1153-bd03-4cd7-8eb4-e81ae8ee46d7",
   "metadata": {},
   "source": [
    "### Question 16.) Is indentation required in python?\n",
    "#### Answer 16.) Yes indentation in Python is very important.  because Python uses indentation to indicate a block of code."
   ]
  },
  {
   "cell_type": "code",
   "execution_count": null,
   "id": "b6caea5d-d2b1-4ac8-b3f4-c470a14bbe92",
   "metadata": {},
   "outputs": [],
   "source": []
  }
 ],
 "metadata": {
  "kernelspec": {
   "display_name": "Python 3 (ipykernel)",
   "language": "python",
   "name": "python3"
  },
  "language_info": {
   "codemirror_mode": {
    "name": "ipython",
    "version": 3
   },
   "file_extension": ".py",
   "mimetype": "text/x-python",
   "name": "python",
   "nbconvert_exporter": "python",
   "pygments_lexer": "ipython3",
   "version": "3.10.8"
  }
 },
 "nbformat": 4,
 "nbformat_minor": 5
}
